{
 "cells": [
  {
   "cell_type": "code",
   "execution_count": 15,
   "metadata": {},
   "outputs": [],
   "source": [
    "### Test linear SVM\n",
    "import pandas as pd\n",
    "import numpy as np\n",
    "from sklearn.svm import LinearSVC"
   ]
  },
  {
   "cell_type": "code",
   "execution_count": 32,
   "metadata": {},
   "outputs": [],
   "source": [
    "data1 = pd.read_csv('data1_t_scaled_250_03.csv', index_col = 0, header = 0)\n",
    "data2 = pd.read_csv('data2_t_scaled_250_03.csv', index_col = 0, header = 0)\n",
    "\n",
    "labels1 = pd.read_csv('5k_v3_labels.csv', index_col = 0, header = 0)\n",
    "labels2 = pd.read_csv('5k_v3_nextgem_labels.csv', index_col = 0, header = 0)\n",
    "\n",
    "xx = np.where(labels1 != 'CD3+ CD14+ cell')[0]\n",
    "labels1 = labels1.iloc[xx]\n",
    "\n",
    "xx = np.where(labels2 != 'CD3+ CD14+ cell')[0]\n",
    "labels2 = labels2.iloc[xx]\n",
    "\n",
    "xx2 = np.where(labels1 == 'NC/Int Monocyte')[0]\n",
    "labels1.iloc[xx2] = 'NC-Int Monocyte'\n",
    "\n",
    "xx2 = np.where(labels2 == 'NC/Int Monocyte')[0]\n",
    "labels2.iloc[xx2] = 'NC-Int Monocyte'"
   ]
  },
  {
   "cell_type": "code",
   "execution_count": 17,
   "metadata": {},
   "outputs": [
    {
     "data": {
      "text/plain": [
       "3817"
      ]
     },
     "execution_count": 17,
     "metadata": {},
     "output_type": "execute_result"
    }
   ],
   "source": [
    "len(labels1)"
   ]
  },
  {
   "cell_type": "code",
   "execution_count": 18,
   "metadata": {},
   "outputs": [
    {
     "name": "stderr",
     "output_type": "stream",
     "text": [
      "C:\\Users\\lcmmichielsen\\Anaconda3\\envs\\Seurat\\lib\\site-packages\\sklearn\\utils\\validation.py:73: DataConversionWarning: A column-vector y was passed when a 1d array was expected. Please change the shape of y to (n_samples, ), for example using ravel().\n",
      "  return f(**kwargs)\n",
      "C:\\Users\\lcmmichielsen\\Anaconda3\\envs\\Seurat\\lib\\site-packages\\sklearn\\svm\\_base.py:977: ConvergenceWarning: Liblinear failed to converge, increase the number of iterations.\n",
      "  \"the number of iterations.\", ConvergenceWarning)\n"
     ]
    },
    {
     "data": {
      "text/plain": [
       "LinearSVC()"
      ]
     },
     "execution_count": 18,
     "metadata": {},
     "output_type": "execute_result"
    }
   ],
   "source": [
    "clf = LinearSVC()\n",
    "clf.fit(data1, labels1)"
   ]
  },
  {
   "cell_type": "code",
   "execution_count": 20,
   "metadata": {},
   "outputs": [],
   "source": [
    "pred = clf.predict(data2)"
   ]
  },
  {
   "cell_type": "code",
   "execution_count": 21,
   "metadata": {},
   "outputs": [
    {
     "data": {
      "text/plain": [
       "array(['B cell', 'C Monocyte', 'CD4+ T cell', 'CD8+ T cell',\n",
       "       'NC/Int Monocyte', 'NK cell', 'NKT cell', 'cDC', 'pDC'],\n",
       "      dtype=object)"
      ]
     },
     "execution_count": 21,
     "metadata": {},
     "output_type": "execute_result"
    }
   ],
   "source": [
    "np.unique(pred)"
   ]
  },
  {
   "cell_type": "code",
   "execution_count": 26,
   "metadata": {},
   "outputs": [
    {
     "data": {
      "text/plain": [
       "3602"
      ]
     },
     "execution_count": 26,
     "metadata": {},
     "output_type": "execute_result"
    }
   ],
   "source": [
    "np.sum(pred == np.squeeze(labels2.values))"
   ]
  },
  {
   "cell_type": "code",
   "execution_count": 24,
   "metadata": {},
   "outputs": [
    {
     "data": {
      "text/plain": [
       "(4011,)"
      ]
     },
     "execution_count": 24,
     "metadata": {},
     "output_type": "execute_result"
    }
   ],
   "source": [
    "np.shape(pred)"
   ]
  },
  {
   "cell_type": "code",
   "execution_count": 25,
   "metadata": {},
   "outputs": [
    {
     "data": {
      "text/plain": [
       "(4011, 1)"
      ]
     },
     "execution_count": 25,
     "metadata": {},
     "output_type": "execute_result"
    }
   ],
   "source": [
    "np.shape(labels2.values)"
   ]
  },
  {
   "cell_type": "markdown",
   "metadata": {},
   "source": [
    "### Now we use one-class/linear SVM with hierarchy"
   ]
  },
  {
   "cell_type": "code",
   "execution_count": 27,
   "metadata": {},
   "outputs": [],
   "source": [
    "from newick import *\n",
    "from build_classifier import *\n",
    "from predict_labels import *"
   ]
  },
  {
   "cell_type": "code",
   "execution_count": 28,
   "metadata": {},
   "outputs": [],
   "source": [
    "### Create the tree\n",
    "tree = loads('(((cDC, pDC)DC, (C Monocyte, NC-Int Monocyte)Monocyte)Myeloid, (B cell, (NK cell, NKT cell, (CD8+ T cell, CD4+ T cell, gd T cell)T cell)NK and T cell)Lymphoid)root')"
   ]
  },
  {
   "cell_type": "code",
   "execution_count": 53,
   "metadata": {},
   "outputs": [],
   "source": [
    "### Train the tree\n",
    "# tree = train_tree(data1, labels1, tree, classifier = 'svm_occ', dimred = True)\n",
    "tree = train_tree(data1, labels1, tree, classifier = 'svm', dimred = False)"
   ]
  },
  {
   "cell_type": "code",
   "execution_count": 54,
   "metadata": {},
   "outputs": [],
   "source": [
    "### Predict the labels\n",
    "pred = predict_labels(data2, tree)"
   ]
  },
  {
   "cell_type": "code",
   "execution_count": 55,
   "metadata": {},
   "outputs": [
    {
     "data": {
      "text/plain": [
       "3265"
      ]
     },
     "execution_count": 55,
     "metadata": {},
     "output_type": "execute_result"
    }
   ],
   "source": [
    "np.sum(pred == np.squeeze(labels2.values))"
   ]
  },
  {
   "cell_type": "code",
   "execution_count": 49,
   "metadata": {},
   "outputs": [
    {
     "data": {
      "text/plain": [
       "array(['B cell', 'C Monocyte', 'CD4+ T cell', 'CD8+ T cell', 'DC',\n",
       "       'Lymphoid', 'Monocyte', 'Myeloid', 'NC-Int Monocyte',\n",
       "       'NK and T cell', 'NK cell', 'NKT cell', 'T cell', 'cDC',\n",
       "       'gd T cell', 'pDC', 'root'], dtype='<U15')"
      ]
     },
     "execution_count": 49,
     "metadata": {},
     "output_type": "execute_result"
    }
   ],
   "source": [
    "np.unique(pred)"
   ]
  },
  {
   "cell_type": "code",
   "execution_count": 44,
   "metadata": {},
   "outputs": [
    {
     "data": {
      "text/plain": [
       "array(['CD4+ T cell', 'CD8+ T cell', 'gd T cell'], dtype=object)"
      ]
     },
     "execution_count": 44,
     "metadata": {},
     "output_type": "execute_result"
    }
   ],
   "source": [
    "np.unique(labels2.values[np.where(pred == 'T cell')[0]])"
   ]
  },
  {
   "cell_type": "code",
   "execution_count": 50,
   "metadata": {
    "scrolled": true
   },
   "outputs": [
    {
     "data": {
      "text/plain": [
       "168"
      ]
     },
     "execution_count": 50,
     "metadata": {},
     "output_type": "execute_result"
    }
   ],
   "source": [
    "len(np.where(pred == 'root')[0])"
   ]
  },
  {
   "cell_type": "code",
   "execution_count": 51,
   "metadata": {},
   "outputs": [],
   "source": [
    "def confusion(y_true, y_pred):\n",
    "    '''\n",
    "    Construct a confusion matrix\n",
    "    '''\n",
    "    \n",
    "    # Construct normalized confusion matrix\n",
    "    num_cluster = len(np.unique(y_true))\n",
    "    num_pred = len(np.unique(y_pred))\n",
    "    NC = np.zeros([num_cluster,num_pred], dtype = int)\n",
    "\n",
    "    for i, group_true in enumerate(np.unique(y_true)):\n",
    "        a = y_true == group_true\n",
    "        a = np.squeeze(a)\n",
    "        for j, group_pred in enumerate(np.unique(y_pred)):\n",
    "            b = y_pred == group_pred\n",
    "            b = np.squeeze(b)\n",
    "            NC[i,j] = sum(a & b)\n",
    "\n",
    "    NC = pd.DataFrame(NC, columns = np.unique(y_pred), index = np.unique(y_true))\n",
    "    \n",
    "    return NC\n"
   ]
  },
  {
   "cell_type": "code",
   "execution_count": 56,
   "metadata": {},
   "outputs": [
    {
     "data": {
      "text/html": [
       "<div>\n",
       "<style scoped>\n",
       "    .dataframe tbody tr th:only-of-type {\n",
       "        vertical-align: middle;\n",
       "    }\n",
       "\n",
       "    .dataframe tbody tr th {\n",
       "        vertical-align: top;\n",
       "    }\n",
       "\n",
       "    .dataframe thead th {\n",
       "        text-align: right;\n",
       "    }\n",
       "</style>\n",
       "<table border=\"1\" class=\"dataframe\">\n",
       "  <thead>\n",
       "    <tr style=\"text-align: right;\">\n",
       "      <th></th>\n",
       "      <th>B cell</th>\n",
       "      <th>C Monocyte</th>\n",
       "      <th>CD4+ T cell</th>\n",
       "      <th>CD8+ T cell</th>\n",
       "      <th>Lymphoid</th>\n",
       "      <th>Monocyte</th>\n",
       "      <th>Myeloid</th>\n",
       "      <th>NC-Int Monocyte</th>\n",
       "      <th>NK and T cell</th>\n",
       "      <th>NK cell</th>\n",
       "      <th>NKT cell</th>\n",
       "      <th>T cell</th>\n",
       "      <th>cDC</th>\n",
       "      <th>pDC</th>\n",
       "      <th>root</th>\n",
       "    </tr>\n",
       "  </thead>\n",
       "  <tbody>\n",
       "    <tr>\n",
       "      <th>B cell</th>\n",
       "      <td>273</td>\n",
       "      <td>4</td>\n",
       "      <td>0</td>\n",
       "      <td>0</td>\n",
       "      <td>1</td>\n",
       "      <td>0</td>\n",
       "      <td>4</td>\n",
       "      <td>0</td>\n",
       "      <td>0</td>\n",
       "      <td>0</td>\n",
       "      <td>0</td>\n",
       "      <td>0</td>\n",
       "      <td>0</td>\n",
       "      <td>0</td>\n",
       "      <td>57</td>\n",
       "    </tr>\n",
       "    <tr>\n",
       "      <th>C Monocyte</th>\n",
       "      <td>0</td>\n",
       "      <td>1112</td>\n",
       "      <td>0</td>\n",
       "      <td>0</td>\n",
       "      <td>0</td>\n",
       "      <td>9</td>\n",
       "      <td>4</td>\n",
       "      <td>7</td>\n",
       "      <td>0</td>\n",
       "      <td>0</td>\n",
       "      <td>0</td>\n",
       "      <td>0</td>\n",
       "      <td>2</td>\n",
       "      <td>0</td>\n",
       "      <td>37</td>\n",
       "    </tr>\n",
       "    <tr>\n",
       "      <th>CD4+ T cell</th>\n",
       "      <td>0</td>\n",
       "      <td>0</td>\n",
       "      <td>1426</td>\n",
       "      <td>12</td>\n",
       "      <td>15</td>\n",
       "      <td>0</td>\n",
       "      <td>0</td>\n",
       "      <td>0</td>\n",
       "      <td>10</td>\n",
       "      <td>0</td>\n",
       "      <td>3</td>\n",
       "      <td>2</td>\n",
       "      <td>0</td>\n",
       "      <td>0</td>\n",
       "      <td>71</td>\n",
       "    </tr>\n",
       "    <tr>\n",
       "      <th>CD8+ T cell</th>\n",
       "      <td>0</td>\n",
       "      <td>0</td>\n",
       "      <td>244</td>\n",
       "      <td>90</td>\n",
       "      <td>2</td>\n",
       "      <td>0</td>\n",
       "      <td>0</td>\n",
       "      <td>0</td>\n",
       "      <td>1</td>\n",
       "      <td>11</td>\n",
       "      <td>1</td>\n",
       "      <td>1</td>\n",
       "      <td>0</td>\n",
       "      <td>0</td>\n",
       "      <td>13</td>\n",
       "    </tr>\n",
       "    <tr>\n",
       "      <th>NC-Int Monocyte</th>\n",
       "      <td>0</td>\n",
       "      <td>12</td>\n",
       "      <td>0</td>\n",
       "      <td>0</td>\n",
       "      <td>0</td>\n",
       "      <td>0</td>\n",
       "      <td>1</td>\n",
       "      <td>42</td>\n",
       "      <td>0</td>\n",
       "      <td>0</td>\n",
       "      <td>0</td>\n",
       "      <td>0</td>\n",
       "      <td>0</td>\n",
       "      <td>0</td>\n",
       "      <td>4</td>\n",
       "    </tr>\n",
       "    <tr>\n",
       "      <th>NK cell</th>\n",
       "      <td>0</td>\n",
       "      <td>0</td>\n",
       "      <td>0</td>\n",
       "      <td>18</td>\n",
       "      <td>22</td>\n",
       "      <td>0</td>\n",
       "      <td>1</td>\n",
       "      <td>0</td>\n",
       "      <td>0</td>\n",
       "      <td>288</td>\n",
       "      <td>3</td>\n",
       "      <td>0</td>\n",
       "      <td>0</td>\n",
       "      <td>0</td>\n",
       "      <td>5</td>\n",
       "    </tr>\n",
       "    <tr>\n",
       "      <th>NKT cell</th>\n",
       "      <td>0</td>\n",
       "      <td>0</td>\n",
       "      <td>0</td>\n",
       "      <td>0</td>\n",
       "      <td>0</td>\n",
       "      <td>0</td>\n",
       "      <td>0</td>\n",
       "      <td>0</td>\n",
       "      <td>0</td>\n",
       "      <td>5</td>\n",
       "      <td>7</td>\n",
       "      <td>0</td>\n",
       "      <td>0</td>\n",
       "      <td>0</td>\n",
       "      <td>8</td>\n",
       "    </tr>\n",
       "    <tr>\n",
       "      <th>cDC</th>\n",
       "      <td>0</td>\n",
       "      <td>18</td>\n",
       "      <td>0</td>\n",
       "      <td>0</td>\n",
       "      <td>0</td>\n",
       "      <td>1</td>\n",
       "      <td>0</td>\n",
       "      <td>0</td>\n",
       "      <td>0</td>\n",
       "      <td>0</td>\n",
       "      <td>0</td>\n",
       "      <td>0</td>\n",
       "      <td>18</td>\n",
       "      <td>0</td>\n",
       "      <td>55</td>\n",
       "    </tr>\n",
       "    <tr>\n",
       "      <th>gd T cell</th>\n",
       "      <td>0</td>\n",
       "      <td>0</td>\n",
       "      <td>60</td>\n",
       "      <td>7</td>\n",
       "      <td>0</td>\n",
       "      <td>0</td>\n",
       "      <td>0</td>\n",
       "      <td>0</td>\n",
       "      <td>0</td>\n",
       "      <td>0</td>\n",
       "      <td>0</td>\n",
       "      <td>0</td>\n",
       "      <td>0</td>\n",
       "      <td>0</td>\n",
       "      <td>2</td>\n",
       "    </tr>\n",
       "    <tr>\n",
       "      <th>pDC</th>\n",
       "      <td>0</td>\n",
       "      <td>0</td>\n",
       "      <td>0</td>\n",
       "      <td>0</td>\n",
       "      <td>0</td>\n",
       "      <td>0</td>\n",
       "      <td>0</td>\n",
       "      <td>0</td>\n",
       "      <td>0</td>\n",
       "      <td>0</td>\n",
       "      <td>0</td>\n",
       "      <td>0</td>\n",
       "      <td>1</td>\n",
       "      <td>9</td>\n",
       "      <td>12</td>\n",
       "    </tr>\n",
       "  </tbody>\n",
       "</table>\n",
       "</div>"
      ],
      "text/plain": [
       "                 B cell  C Monocyte  CD4+ T cell  CD8+ T cell  Lymphoid  \\\n",
       "B cell              273           4            0            0         1   \n",
       "C Monocyte            0        1112            0            0         0   \n",
       "CD4+ T cell           0           0         1426           12        15   \n",
       "CD8+ T cell           0           0          244           90         2   \n",
       "NC-Int Monocyte       0          12            0            0         0   \n",
       "NK cell               0           0            0           18        22   \n",
       "NKT cell              0           0            0            0         0   \n",
       "cDC                   0          18            0            0         0   \n",
       "gd T cell             0           0           60            7         0   \n",
       "pDC                   0           0            0            0         0   \n",
       "\n",
       "                 Monocyte  Myeloid  NC-Int Monocyte  NK and T cell  NK cell  \\\n",
       "B cell                  0        4                0              0        0   \n",
       "C Monocyte              9        4                7              0        0   \n",
       "CD4+ T cell             0        0                0             10        0   \n",
       "CD8+ T cell             0        0                0              1       11   \n",
       "NC-Int Monocyte         0        1               42              0        0   \n",
       "NK cell                 0        1                0              0      288   \n",
       "NKT cell                0        0                0              0        5   \n",
       "cDC                     1        0                0              0        0   \n",
       "gd T cell               0        0                0              0        0   \n",
       "pDC                     0        0                0              0        0   \n",
       "\n",
       "                 NKT cell  T cell  cDC  pDC  root  \n",
       "B cell                  0       0    0    0    57  \n",
       "C Monocyte              0       0    2    0    37  \n",
       "CD4+ T cell             3       2    0    0    71  \n",
       "CD8+ T cell             1       1    0    0    13  \n",
       "NC-Int Monocyte         0       0    0    0     4  \n",
       "NK cell                 3       0    0    0     5  \n",
       "NKT cell                7       0    0    0     8  \n",
       "cDC                     0       0   18    0    55  \n",
       "gd T cell               0       0    0    0     2  \n",
       "pDC                     0       0    1    9    12  "
      ]
     },
     "execution_count": 56,
     "metadata": {},
     "output_type": "execute_result"
    }
   ],
   "source": [
    "confusion(labels2.values, pred)"
   ]
  },
  {
   "cell_type": "code",
   "execution_count": null,
   "metadata": {},
   "outputs": [],
   "source": []
  }
 ],
 "metadata": {
  "kernelspec": {
   "display_name": "Python 3",
   "language": "python",
   "name": "python3"
  },
  "language_info": {
   "codemirror_mode": {
    "name": "ipython",
    "version": 3
   },
   "file_extension": ".py",
   "mimetype": "text/x-python",
   "name": "python",
   "nbconvert_exporter": "python",
   "pygments_lexer": "ipython3",
   "version": "3.7.1"
  }
 },
 "nbformat": 4,
 "nbformat_minor": 4
}
